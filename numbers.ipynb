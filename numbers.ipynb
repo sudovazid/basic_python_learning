{
  "nbformat": 4,
  "nbformat_minor": 0,
  "metadata": {
    "colab": {
      "provenance": [],
      "toc_visible": true,
      "authorship_tag": "ABX9TyNALPc/s6AQX5r7MlAzoked",
      "include_colab_link": true
    },
    "kernelspec": {
      "name": "python3",
      "display_name": "Python 3"
    },
    "language_info": {
      "name": "python"
    }
  },
  "cells": [
    {
      "cell_type": "markdown",
      "metadata": {
        "id": "view-in-github",
        "colab_type": "text"
      },
      "source": [
        "<a href=\"https://colab.research.google.com/github/sudovazid/basic_python_learning/blob/main/numbers.ipynb\" target=\"_parent\"><img src=\"https://colab.research.google.com/assets/colab-badge.svg\" alt=\"Open In Colab\"/></a>"
      ]
    },
    {
      "cell_type": "markdown",
      "source": [
        "# Numbers in Python"
      ],
      "metadata": {
        "id": "IgNZQiDm7e57"
      }
    },
    {
      "cell_type": "code",
      "source": [
        "# Addition\n",
        "\n",
        "print(2+1)\n",
        "\n",
        "#Substraction\n",
        "\n",
        "print(2 - 1)\n",
        "\n",
        "# Multiplication\n",
        "print(2*2)\n",
        "\n",
        "#Division\n",
        "\n",
        "print(4/2)"
      ],
      "metadata": {
        "colab": {
          "base_uri": "https://localhost:8080/"
        },
        "id": "Cp9D5w-E7i9T",
        "outputId": "68f49c00-85e1-4a0f-d7a7-caf096bb52ae"
      },
      "execution_count": 1,
      "outputs": [
        {
          "output_type": "stream",
          "name": "stdout",
          "text": [
            "3\n",
            "1\n",
            "4\n",
            "2.0\n"
          ]
        }
      ]
    },
    {
      "cell_type": "code",
      "source": [
        "#power\n",
        "2**4"
      ],
      "metadata": {
        "colab": {
          "base_uri": "https://localhost:8080/"
        },
        "id": "usMciq3j8KcD",
        "outputId": "f52c1d52-4d59-4ef1-daa1-6d2e48053280"
      },
      "execution_count": 2,
      "outputs": [
        {
          "output_type": "execute_result",
          "data": {
            "text/plain": [
              "16"
            ]
          },
          "metadata": {},
          "execution_count": 2
        }
      ]
    },
    {
      "cell_type": "code",
      "source": [
        "# order of operation followed in python\n",
        "\n",
        "2 + 10 * 10 + 3"
      ],
      "metadata": {
        "colab": {
          "base_uri": "https://localhost:8080/"
        },
        "id": "H_J0G-k58N3S",
        "outputId": "d5f12105-4d73-4c44-97f7-6c1154980f8d"
      },
      "execution_count": 3,
      "outputs": [
        {
          "output_type": "execute_result",
          "data": {
            "text/plain": [
              "105"
            ]
          },
          "metadata": {},
          "execution_count": 3
        }
      ]
    },
    {
      "cell_type": "code",
      "source": [
        "# Use parenthesis to specify order\n",
        "\n",
        "(2+10) * (10+3)"
      ],
      "metadata": {
        "colab": {
          "base_uri": "https://localhost:8080/"
        },
        "id": "L14RdKtx8aYU",
        "outputId": "ab863925-1333-4e0e-ed53-e0f2130deec8"
      },
      "execution_count": 4,
      "outputs": [
        {
          "output_type": "execute_result",
          "data": {
            "text/plain": [
              "156"
            ]
          },
          "metadata": {},
          "execution_count": 4
        }
      ]
    },
    {
      "cell_type": "code",
      "source": [],
      "metadata": {
        "id": "Ze_Cl1yp8kP6"
      },
      "execution_count": null,
      "outputs": []
    },
    {
      "cell_type": "markdown",
      "source": [
        "# Variable Assigment\n",
        "\n",
        "\n"
      ],
      "metadata": {
        "id": "gXGQWqn18rC7"
      }
    },
    {
      "cell_type": "code",
      "source": [
        "a  = 5\n",
        "a"
      ],
      "metadata": {
        "colab": {
          "base_uri": "https://localhost:8080/"
        },
        "id": "6zejjMld8uab",
        "outputId": "644867f2-9bea-4123-e7b2-ccbbea2f5c53"
      },
      "execution_count": 8,
      "outputs": [
        {
          "output_type": "execute_result",
          "data": {
            "text/plain": [
              "5"
            ]
          },
          "metadata": {},
          "execution_count": 8
        }
      ]
    },
    {
      "cell_type": "code",
      "source": [
        "a+ a"
      ],
      "metadata": {
        "colab": {
          "base_uri": "https://localhost:8080/"
        },
        "id": "_GsB-x3p8w_j",
        "outputId": "a80a259b-5de6-46df-d678-03523c3398bb"
      },
      "execution_count": 7,
      "outputs": [
        {
          "output_type": "execute_result",
          "data": {
            "text/plain": [
              "10"
            ]
          },
          "metadata": {},
          "execution_count": 7
        }
      ]
    },
    {
      "cell_type": "code",
      "source": [
        "# reassigment\n",
        "\n",
        "a =10"
      ],
      "metadata": {
        "id": "lMnu3JiE8zfl"
      },
      "execution_count": 9,
      "outputs": []
    },
    {
      "cell_type": "code",
      "source": [
        "a+a"
      ],
      "metadata": {
        "colab": {
          "base_uri": "https://localhost:8080/"
        },
        "id": "17Tc3h599GU6",
        "outputId": "a43d4570-799a-41fb-fbda-ca5afb55f952"
      },
      "execution_count": 10,
      "outputs": [
        {
          "output_type": "execute_result",
          "data": {
            "text/plain": [
              "20"
            ]
          },
          "metadata": {},
          "execution_count": 10
        }
      ]
    },
    {
      "cell_type": "code",
      "source": [],
      "metadata": {
        "id": "ZK-eRZ5R9HiU"
      },
      "execution_count": null,
      "outputs": []
    }
  ]
}