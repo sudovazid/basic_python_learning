{
  "nbformat": 4,
  "nbformat_minor": 0,
  "metadata": {
    "colab": {
      "provenance": [],
      "authorship_tag": "ABX9TyP300Io18y/z57jPZKMHS0+",
      "include_colab_link": true
    },
    "kernelspec": {
      "name": "python3",
      "display_name": "Python 3"
    },
    "language_info": {
      "name": "python"
    }
  },
  "cells": [
    {
      "cell_type": "markdown",
      "metadata": {
        "id": "view-in-github",
        "colab_type": "text"
      },
      "source": [
        "<a href=\"https://colab.research.google.com/github/sudovazid/python_learning/blob/main/packages_py.ipynb\" target=\"_parent\"><img src=\"https://colab.research.google.com/assets/colab-badge.svg\" alt=\"Open In Colab\"/></a>"
      ]
    },
    {
      "cell_type": "markdown",
      "source": [
        "# Modules, Packages and import"
      ],
      "metadata": {
        "id": "FQRIKUzfotui"
      }
    },
    {
      "cell_type": "code",
      "execution_count": 4,
      "metadata": {
        "id": "wolh1u3XmLTo",
        "colab": {
          "base_uri": "https://localhost:8080/"
        },
        "outputId": "ff10149a-e10f-4ec0-9e86-6100037aa8df"
      },
      "outputs": [
        {
          "output_type": "stream",
          "name": "stdout",
          "text": [
            "4.0\n",
            "256.0\n"
          ]
        }
      ],
      "source": [
        "import math\n",
        "\n",
        "print(math.pow(2,2))\n",
        "\n",
        "print(math.pow(2,8))"
      ]
    },
    {
      "cell_type": "code",
      "source": [],
      "metadata": {
        "id": "8teq08-eoyQW"
      },
      "execution_count": null,
      "outputs": []
    }
  ]
}