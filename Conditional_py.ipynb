{
  "nbformat": 4,
  "nbformat_minor": 0,
  "metadata": {
    "colab": {
      "provenance": [],
      "authorship_tag": "ABX9TyNjtyqPs8MbNlGrd2oaCID/",
      "include_colab_link": true
    },
    "kernelspec": {
      "name": "python3",
      "display_name": "Python 3"
    },
    "language_info": {
      "name": "python"
    }
  },
  "cells": [
    {
      "cell_type": "markdown",
      "metadata": {
        "id": "view-in-github",
        "colab_type": "text"
      },
      "source": [
        "<a href=\"https://colab.research.google.com/github/sudovazid/python_learning/blob/main/Conditional_py.ipynb\" target=\"_parent\"><img src=\"https://colab.research.google.com/assets/colab-badge.svg\" alt=\"Open In Colab\"/></a>"
      ]
    },
    {
      "cell_type": "markdown",
      "source": [
        "# If Else"
      ],
      "metadata": {
        "id": "JYFz_ge8G2tz"
      }
    },
    {
      "cell_type": "code",
      "execution_count": null,
      "metadata": {
        "id": "ymGiWfIcC-zu"
      },
      "outputs": [],
      "source": [
        "a = 6\n",
        "b = 2"
      ]
    },
    {
      "cell_type": "code",
      "source": [
        "if a > b:\n",
        "  print(\"a is greater than b\")\n",
        "else:\n",
        "  print(\"b is greater than a\")"
      ],
      "metadata": {
        "colab": {
          "base_uri": "https://localhost:8080/"
        },
        "id": "gHg4KFmSHeab",
        "outputId": "9c3e91f6-188b-44ff-8e48-d4d5c1d4b59c"
      },
      "execution_count": null,
      "outputs": [
        {
          "output_type": "stream",
          "name": "stdout",
          "text": [
            "a is greater than b\n"
          ]
        }
      ]
    },
    {
      "cell_type": "code",
      "source": [
        "a = 6\n",
        "b = 6\n",
        "\n",
        "if a > b:\n",
        "  print(\"a is greater than b\")\n",
        "elif b > a:\n",
        "  print(\"b is greater than a\")\n",
        "else:\n",
        "  print(\"a and b are equal\")"
      ],
      "metadata": {
        "colab": {
          "base_uri": "https://localhost:8080/"
        },
        "id": "toKYUufEHh_3",
        "outputId": "fc7fef8b-f9e5-48d1-c42a-801cc40eaf30"
      },
      "execution_count": null,
      "outputs": [
        {
          "output_type": "stream",
          "name": "stdout",
          "text": [
            "a and b are equal\n"
          ]
        }
      ]
    },
    {
      "cell_type": "markdown",
      "source": [
        "# Loops"
      ],
      "metadata": {
        "id": "ZuVtygVKIZX7"
      }
    },
    {
      "cell_type": "markdown",
      "source": [
        "## For loops"
      ],
      "metadata": {
        "id": "IPK2bjaCIc2I"
      }
    },
    {
      "cell_type": "code",
      "source": [
        "for i in range(10):\n",
        "  print('World')"
      ],
      "metadata": {
        "colab": {
          "base_uri": "https://localhost:8080/"
        },
        "id": "U9cBQTfEIIHp",
        "outputId": "480496f3-b720-4a7c-ec27-51b3e07f4587"
      },
      "execution_count": null,
      "outputs": [
        {
          "output_type": "stream",
          "name": "stdout",
          "text": [
            "World\n",
            "World\n",
            "World\n",
            "World\n",
            "World\n",
            "World\n",
            "World\n",
            "World\n",
            "World\n",
            "World\n"
          ]
        }
      ]
    },
    {
      "cell_type": "code",
      "source": [
        "for i in range(10):\n",
        "  print(i)"
      ],
      "metadata": {
        "colab": {
          "base_uri": "https://localhost:8080/"
        },
        "id": "XdwXAT2FJWTL",
        "outputId": "5cfc1f1b-59f8-435e-8888-2902bffc69b1"
      },
      "execution_count": null,
      "outputs": [
        {
          "output_type": "stream",
          "name": "stdout",
          "text": [
            "0\n",
            "1\n",
            "2\n",
            "3\n",
            "4\n",
            "5\n",
            "6\n",
            "7\n",
            "8\n",
            "9\n"
          ]
        }
      ]
    },
    {
      "cell_type": "code",
      "source": [
        "users = list(range(10))\n",
        "\n",
        "for user in users:\n",
        "  print(f\"This is my {user} user\")"
      ],
      "metadata": {
        "colab": {
          "base_uri": "https://localhost:8080/"
        },
        "id": "h0SwzouoIxRG",
        "outputId": "571e928a-51d4-4db5-afdb-8dc0ac7b8011"
      },
      "execution_count": null,
      "outputs": [
        {
          "output_type": "stream",
          "name": "stdout",
          "text": [
            "This is my 0 user\n",
            "This is my 1 user\n",
            "This is my 2 user\n",
            "This is my 3 user\n",
            "This is my 4 user\n",
            "This is my 5 user\n",
            "This is my 6 user\n",
            "This is my 7 user\n",
            "This is my 8 user\n",
            "This is my 9 user\n"
          ]
        }
      ]
    },
    {
      "cell_type": "code",
      "source": [
        "444 % 2"
      ],
      "metadata": {
        "colab": {
          "base_uri": "https://localhost:8080/"
        },
        "id": "qNZrOKlSKvLA",
        "outputId": "b5e20548-6369-4ccc-debe-2462510bccf9"
      },
      "execution_count": null,
      "outputs": [
        {
          "output_type": "execute_result",
          "data": {
            "text/plain": [
              "0"
            ]
          },
          "metadata": {},
          "execution_count": 13
        }
      ]
    },
    {
      "cell_type": "code",
      "source": [
        "list_l = [2,3,45,7,34,2,5,10,5,67,88,9]\n",
        "\n",
        "for number in list_l: \n",
        "  if number % 2 == 0:\n",
        "    print(f\"This is even number {number}\")\n",
        "  else:\n",
        "    print(f\"This is odd number {number}\")"
      ],
      "metadata": {
        "colab": {
          "base_uri": "https://localhost:8080/"
        },
        "id": "APhBZKR2JnUZ",
        "outputId": "ec1c9e00-6d1f-4585-8366-7cdf24bb31d4"
      },
      "execution_count": null,
      "outputs": [
        {
          "output_type": "stream",
          "name": "stdout",
          "text": [
            "This is even number 2\n",
            "This is odd number 3\n",
            "This is odd number 45\n",
            "This is odd number 7\n",
            "This is even number 34\n",
            "This is even number 2\n",
            "This is odd number 5\n",
            "This is even number 10\n",
            "This is odd number 5\n",
            "This is odd number 67\n",
            "This is even number 88\n",
            "This is odd number 9\n"
          ]
        }
      ]
    },
    {
      "cell_type": "markdown",
      "source": [
        "## While Loop"
      ],
      "metadata": {
        "id": "onejr5DeLYZD"
      }
    },
    {
      "cell_type": "code",
      "source": [
        "x = 10\n",
        "\n",
        "while x < 10 :\n",
        "  print('X is currently: ',x,end=' ')\n",
        "  print('X is still less than 10, adding 1 to x' )\n",
        "  x = x+1"
      ],
      "metadata": {
        "id": "GCX57Xt_KoBq"
      },
      "execution_count": 5,
      "outputs": []
    },
    {
      "cell_type": "code",
      "source": [
        " "
      ],
      "metadata": {
        "id": "4NMftdQ3TpE6"
      },
      "execution_count": null,
      "outputs": []
    }
  ]
}