{
  "nbformat": 4,
  "nbformat_minor": 0,
  "metadata": {
    "colab": {
      "provenance": [],
      "authorship_tag": "ABX9TyO/NpdqKF9jMxkPu5s++Q8j",
      "include_colab_link": true
    },
    "kernelspec": {
      "name": "python3",
      "display_name": "Python 3"
    },
    "language_info": {
      "name": "python"
    }
  },
  "cells": [
    {
      "cell_type": "markdown",
      "metadata": {
        "id": "view-in-github",
        "colab_type": "text"
      },
      "source": [
        "<a href=\"https://colab.research.google.com/github/sudovazid/python_learning/blob/main/comprehensions_py.ipynb\" target=\"_parent\"><img src=\"https://colab.research.google.com/assets/colab-badge.svg\" alt=\"Open In Colab\"/></a>"
      ]
    },
    {
      "cell_type": "markdown",
      "source": [
        "# Comprehensions"
      ],
      "metadata": {
        "id": "JGiT1G0MpOEf"
      }
    },
    {
      "cell_type": "markdown",
      "source": [
        "## List Comprehensions"
      ],
      "metadata": {
        "id": "p75nswo_pwwA"
      }
    },
    {
      "cell_type": "code",
      "execution_count": 2,
      "metadata": {
        "colab": {
          "base_uri": "https://localhost:8080/"
        },
        "id": "o8Y2nm3ApMPX",
        "outputId": "60c92b4a-3643-4766-a6a2-1ad2242156e3"
      },
      "outputs": [
        {
          "output_type": "stream",
          "name": "stdout",
          "text": [
            "['Hello Ravi', 'Hello Pooja', 'Hello Vijay', 'Hello Kiran']\n"
          ]
        }
      ],
      "source": [
        "names = ['Ravi', 'Pooja', 'Vijay','Kiran']\n",
        "hello = [\"Hello \" + name for name in names]\n",
        "print(hello)"
      ]
    },
    {
      "cell_type": "code",
      "source": [
        "numbers = [55,32,87,99,10,54,32]\n",
        "\n",
        "even = [num for num in numbers if num % 2 == 0]\n",
        "print(even)\n"
      ],
      "metadata": {
        "colab": {
          "base_uri": "https://localhost:8080/"
        },
        "id": "8eVAD_x9p7gE",
        "outputId": "01880a5d-f1e8-424f-a158-f6a5ba5c92ab"
      },
      "execution_count": 4,
      "outputs": [
        {
          "output_type": "stream",
          "name": "stdout",
          "text": [
            "[32, 10, 54, 32]\n"
          ]
        }
      ]
    },
    {
      "cell_type": "code",
      "source": [],
      "metadata": {
        "id": "NXa4LNJ0q5nu"
      },
      "execution_count": null,
      "outputs": []
    }
  ]
}