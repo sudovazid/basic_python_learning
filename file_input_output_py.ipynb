{
  "nbformat": 4,
  "nbformat_minor": 0,
  "metadata": {
    "colab": {
      "provenance": [],
      "authorship_tag": "ABX9TyMDUpTnUwoadofUSlBPCm+w",
      "include_colab_link": true
    },
    "kernelspec": {
      "name": "python3",
      "display_name": "Python 3"
    },
    "language_info": {
      "name": "python"
    }
  },
  "cells": [
    {
      "cell_type": "markdown",
      "metadata": {
        "id": "view-in-github",
        "colab_type": "text"
      },
      "source": [
        "<a href=\"https://colab.research.google.com/github/sudovazid/python_learning/blob/main/file_input_output_py.ipynb\" target=\"_parent\"><img src=\"https://colab.research.google.com/assets/colab-badge.svg\" alt=\"Open In Colab\"/></a>"
      ]
    },
    {
      "cell_type": "markdown",
      "source": [
        "# File I/O\n",
        "\n",
        "\n",
        "> Indented block\n",
        "\n"
      ],
      "metadata": {
        "id": "qD7yXJvtxAAS"
      }
    },
    {
      "cell_type": "code",
      "source": [
        "with open(\"myfile.txt\", 'w') as f:\n",
        "  f.write(\"This is my file \\n\")\n",
        "  f.write(\"Second line \\n\")"
      ],
      "metadata": {
        "id": "fOyvNdPd0ipK"
      },
      "execution_count": null,
      "outputs": []
    },
    {
      "cell_type": "code",
      "execution_count": 3,
      "metadata": {
        "id": "Rj76c0e9w3Ex"
      },
      "outputs": [],
      "source": [
        "with open(\"myfile.txt\", 'a') as f:\n",
        "  f.write(\"This is my file \\n\")\n",
        "  f.write(\"Second line \\n\")"
      ]
    },
    {
      "cell_type": "code",
      "source": [
        "with open('myfile.txt', 'r') as f:\n",
        "  for line in f:\n",
        "    print(line)\n",
        "f.close()"
      ],
      "metadata": {
        "colab": {
          "base_uri": "https://localhost:8080/"
        },
        "id": "an0uwYD4zpOU",
        "outputId": "254dc184-6d3f-458e-dddb-7444a0e27462"
      },
      "execution_count": 5,
      "outputs": [
        {
          "output_type": "stream",
          "name": "stdout",
          "text": [
            "This is my file \n",
            "\n",
            "Second line \n",
            "\n",
            "This is my file \n",
            "\n",
            "Second line \n",
            "\n"
          ]
        }
      ]
    },
    {
      "cell_type": "code",
      "source": [],
      "metadata": {
        "id": "zCliMg5t0dZ-"
      },
      "execution_count": null,
      "outputs": []
    }
  ]
}