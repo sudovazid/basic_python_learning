{
  "nbformat": 4,
  "nbformat_minor": 0,
  "metadata": {
    "colab": {
      "provenance": [],
      "toc_visible": true,
      "authorship_tag": "ABX9TyNoD9ly6AeSuchkefBA3kvt",
      "include_colab_link": true
    },
    "kernelspec": {
      "name": "python3",
      "display_name": "Python 3"
    },
    "language_info": {
      "name": "python"
    }
  },
  "cells": [
    {
      "cell_type": "markdown",
      "metadata": {
        "id": "view-in-github",
        "colab_type": "text"
      },
      "source": [
        "<a href=\"https://colab.research.google.com/github/sudovazid/basic_python_learning/blob/main/String_python_py.ipynb\" target=\"_parent\"><img src=\"https://colab.research.google.com/assets/colab-badge.svg\" alt=\"Open In Colab\"/></a>"
      ]
    },
    {
      "cell_type": "markdown",
      "source": [
        "# Print string"
      ],
      "metadata": {
        "id": "M46H2XMI3LDG"
      }
    },
    {
      "cell_type": "code",
      "execution_count": null,
      "metadata": {
        "colab": {
          "base_uri": "https://localhost:8080/"
        },
        "id": "zFIQj4quCvDj",
        "outputId": "a21f4676-e7c9-4da7-da4c-008b2c9323bf"
      },
      "outputs": [
        {
          "output_type": "stream",
          "name": "stdout",
          "text": [
            "Hello to python\n"
          ]
        }
      ],
      "source": [
        "print(\"Hello to python\")"
      ]
    },
    {
      "cell_type": "code",
      "source": [
        "s =\"Hello World\""
      ],
      "metadata": {
        "id": "LpciyuD7C4zA"
      },
      "execution_count": null,
      "outputs": []
    },
    {
      "cell_type": "code",
      "source": [
        "print(s[6])"
      ],
      "metadata": {
        "colab": {
          "base_uri": "https://localhost:8080/"
        },
        "id": "_jcx3s3XEAAU",
        "outputId": "7dd52b11-0e9d-4774-c760-246f4beb7ee1"
      },
      "execution_count": null,
      "outputs": [
        {
          "output_type": "stream",
          "name": "stdout",
          "text": [
            "W\n"
          ]
        }
      ]
    },
    {
      "cell_type": "code",
      "source": [
        "print(s)\n",
        "\n",
        "print()\n",
        "\n",
        "print(s[0])\n",
        "\n",
        "print()\n",
        "\n",
        "print(s[1])"
      ],
      "metadata": {
        "colab": {
          "base_uri": "https://localhost:8080/"
        },
        "id": "thBlILTIECkr",
        "outputId": "ab532c91-9385-4670-8c1f-f1844e097014"
      },
      "execution_count": null,
      "outputs": [
        {
          "output_type": "stream",
          "name": "stdout",
          "text": [
            "Hello World\n",
            "\n",
            "H\n",
            "\n",
            "e\n"
          ]
        }
      ]
    },
    {
      "cell_type": "markdown",
      "source": [
        "# Concatination and repitation"
      ],
      "metadata": {
        "id": "0dHaRgQm3MSx"
      }
    },
    {
      "cell_type": "code",
      "source": [
        "s1 = 'Hello'\n",
        "s2 = 'World'\n",
        "print(s1 + \" \" + s2)"
      ],
      "metadata": {
        "colab": {
          "base_uri": "https://localhost:8080/"
        },
        "id": "khFo_CVR3Sxl",
        "outputId": "59e83cec-8c99-44ec-dd63-769619b6223d"
      },
      "execution_count": 1,
      "outputs": [
        {
          "output_type": "stream",
          "name": "stdout",
          "text": [
            "Hello World\n"
          ]
        }
      ]
    },
    {
      "cell_type": "code",
      "source": [
        "print(\"Vazid \"* 19)"
      ],
      "metadata": {
        "colab": {
          "base_uri": "https://localhost:8080/"
        },
        "id": "U3Hmc1oI3am1",
        "outputId": "9d7851b1-d490-4009-f37b-0e9389cb46ba"
      },
      "execution_count": 2,
      "outputs": [
        {
          "output_type": "stream",
          "name": "stdout",
          "text": [
            "Vazid Vazid Vazid Vazid Vazid Vazid Vazid Vazid Vazid Vazid Vazid Vazid Vazid Vazid Vazid Vazid Vazid Vazid Vazid \n"
          ]
        }
      ]
    },
    {
      "cell_type": "code",
      "source": [
        "s1 = \"Hello\"\n",
        "s2 = \"World\"\n",
        "print(s1 + \" \"+ s2)"
      ],
      "metadata": {
        "colab": {
          "base_uri": "https://localhost:8080/"
        },
        "id": "6IEbrYQfEkzg",
        "outputId": "4d51d0fe-37e2-421f-f09b-7152be371454"
      },
      "execution_count": null,
      "outputs": [
        {
          "output_type": "stream",
          "name": "stdout",
          "text": [
            "Hello World\n"
          ]
        }
      ]
    },
    {
      "cell_type": "code",
      "source": [
        "print(\"Hello_\" * 5)"
      ],
      "metadata": {
        "colab": {
          "base_uri": "https://localhost:8080/"
        },
        "id": "MWBE2DZTFPzo",
        "outputId": "0037bac4-c827-4c13-b9e0-ec989c1f9492"
      },
      "execution_count": null,
      "outputs": [
        {
          "output_type": "stream",
          "name": "stdout",
          "text": [
            "Hello_Hello_Hello_Hello_Hello_\n"
          ]
        }
      ]
    },
    {
      "cell_type": "code",
      "source": [
        "print('-'*100)"
      ],
      "metadata": {
        "colab": {
          "base_uri": "https://localhost:8080/"
        },
        "id": "bA-2SessFWb3",
        "outputId": "87e91d13-7e39-41e0-f60d-de78479f9bd8"
      },
      "execution_count": null,
      "outputs": [
        {
          "output_type": "stream",
          "name": "stdout",
          "text": [
            "----------------------------------------------------------------------------------------------------\n"
          ]
        }
      ]
    },
    {
      "cell_type": "code",
      "source": [
        "print(\"Vazid \"* 19)"
      ],
      "metadata": {
        "colab": {
          "base_uri": "https://localhost:8080/"
        },
        "id": "EaakH8bkFZ75",
        "outputId": "1634dd75-0297-47c5-ede7-21ade2837d51"
      },
      "execution_count": null,
      "outputs": [
        {
          "output_type": "stream",
          "name": "stdout",
          "text": [
            "Vazid Vazid Vazid Vazid Vazid Vazid Vazid Vazid Vazid Vazid Vazid Vazid Vazid Vazid Vazid Vazid Vazid Vazid Vazid \n"
          ]
        }
      ]
    },
    {
      "cell_type": "markdown",
      "source": [
        "# Slicing and Indexing"
      ],
      "metadata": {
        "id": "2Fz3ZgEMOvRz"
      }
    },
    {
      "cell_type": "code",
      "source": [
        "s = \"Salam Walekum\"\n",
        "\n",
        "s[0:7]"
      ],
      "metadata": {
        "colab": {
          "base_uri": "https://localhost:8080/",
          "height": 36
        },
        "id": "k-MeM-NaFfw-",
        "outputId": "affb01ae-1154-4729-d611-3ffcb97cf947"
      },
      "execution_count": null,
      "outputs": [
        {
          "output_type": "execute_result",
          "data": {
            "text/plain": [
              "'Salam W'"
            ],
            "application/vnd.google.colaboratory.intrinsic+json": {
              "type": "string"
            }
          },
          "metadata": {},
          "execution_count": 9
        }
      ]
    },
    {
      "cell_type": "code",
      "source": [
        "s = \"Salam Walekum\"\n",
        "print(s[1])   # This is indexing\n",
        "print(s[8:12])   # This is slicing\n",
        "print(s[-8:])\n",
        "\n",
        "print('Salam' in s)"
      ],
      "metadata": {
        "id": "F3vpWOYMOGJX",
        "colab": {
          "base_uri": "https://localhost:8080/"
        },
        "outputId": "f17ec76e-5527-44db-9189-27bcd7d513f9"
      },
      "execution_count": 10,
      "outputs": [
        {
          "output_type": "stream",
          "name": "stdout",
          "text": [
            "a\n",
            "leku\n",
            " Walekum\n",
            "True\n"
          ]
        }
      ]
    },
    {
      "cell_type": "code",
      "source": [],
      "metadata": {
        "id": "9vWLeRhf36I7"
      },
      "execution_count": null,
      "outputs": []
    },
    {
      "cell_type": "markdown",
      "source": [
        "# Built in string method"
      ],
      "metadata": {
        "id": "OSIXvXR25Ieq"
      }
    },
    {
      "cell_type": "code",
      "source": [
        "s = \"Hello World\"\n",
        "\n",
        "print(s.upper())\n",
        "print(s.lower())"
      ],
      "metadata": {
        "colab": {
          "base_uri": "https://localhost:8080/"
        },
        "id": "JN0jsJDi5MTj",
        "outputId": "446c1d94-da40-4c6e-ebf0-b4e4e49739c9"
      },
      "execution_count": 11,
      "outputs": [
        {
          "output_type": "stream",
          "name": "stdout",
          "text": [
            "HELLO WORLD\n",
            "hello world\n"
          ]
        }
      ]
    },
    {
      "cell_type": "code",
      "source": [
        "print(type(s))"
      ],
      "metadata": {
        "colab": {
          "base_uri": "https://localhost:8080/"
        },
        "id": "H3PvBJZ95TWa",
        "outputId": "6e4fcb12-f75e-413f-ae23-f42fca4ac7db"
      },
      "execution_count": 12,
      "outputs": [
        {
          "output_type": "stream",
          "name": "stdout",
          "text": [
            "<class 'str'>\n"
          ]
        }
      ]
    },
    {
      "cell_type": "markdown",
      "source": [
        "# Print Formating"
      ],
      "metadata": {
        "id": "og0QUjBX5b1J"
      }
    },
    {
      "cell_type": "code",
      "source": [
        "name = \"Einstein\"\n",
        "age  = 22\n",
        "married = True\n",
        "\n",
        "print(\"My name is %s, my age is %s, and it is %s that I am married \" %(name, age, married))\n",
        "print(\"My name is {}, my age is {}, and it is {} that I am married\" .format(name, age, married))"
      ],
      "metadata": {
        "colab": {
          "base_uri": "https://localhost:8080/"
        },
        "id": "9qFetfs-5lS5",
        "outputId": "b1847846-9fba-49e6-ddef-dfc32162cbe7"
      },
      "execution_count": 13,
      "outputs": [
        {
          "output_type": "stream",
          "name": "stdout",
          "text": [
            "My name is Einstein, my age is 22, and it is True that I am married \n",
            "My name is Einstein, my age is 22, and it is True that I am married\n"
          ]
        }
      ]
    },
    {
      "cell_type": "code",
      "source": [
        "print(f\"My name is {name}, my age is {age}\")"
      ],
      "metadata": {
        "colab": {
          "base_uri": "https://localhost:8080/"
        },
        "id": "wVyIJ3wC5fUf",
        "outputId": "f894ef00-fff8-4ac4-803b-c04bfcd36d69"
      },
      "execution_count": 14,
      "outputs": [
        {
          "output_type": "stream",
          "name": "stdout",
          "text": [
            "My name is Einstein, my age is 22\n"
          ]
        }
      ]
    }
  ]
}